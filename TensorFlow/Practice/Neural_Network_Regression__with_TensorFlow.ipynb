{
  "nbformat": 4,
  "nbformat_minor": 0,
  "metadata": {
    "colab": {
      "provenance": [],
      "authorship_tag": "ABX9TyNN+lTYXqagqm7P+1n2BOgN",
      "include_colab_link": true
    },
    "kernelspec": {
      "name": "python3",
      "display_name": "Python 3"
    },
    "language_info": {
      "name": "python"
    }
  },
  "cells": [
    {
      "cell_type": "markdown",
      "metadata": {
        "id": "view-in-github",
        "colab_type": "text"
      },
      "source": [
        "<a href=\"https://colab.research.google.com/github/piyudhorey1/Deep_Learning/blob/Developer-pd/Neural_Network_Regression__with_TensorFlow.ipynb\" target=\"_parent\"><img src=\"https://colab.research.google.com/assets/colab-badge.svg\" alt=\"Open In Colab\"/></a>"
      ]
    },
    {
      "cell_type": "markdown",
      "source": [
        "# Introduction to Regression with Neural Network in TensorFlow"
      ],
      "metadata": {
        "id": "XQq5zC1aOJob"
      }
    },
    {
      "cell_type": "code",
      "execution_count": 2,
      "metadata": {
        "colab": {
          "base_uri": "https://localhost:8080/"
        },
        "id": "hQPfGpGyN9s7",
        "outputId": "c23694a1-af2d-49a1-9fb6-21aee8bbbbbe"
      },
      "outputs": [
        {
          "output_type": "stream",
          "name": "stdout",
          "text": [
            "2.12.0\n"
          ]
        }
      ],
      "source": [
        "# import tensorflow\n",
        "\n",
        "import tensorflow as tf\n",
        "print(tf.__version__)"
      ]
    },
    {
      "cell_type": "code",
      "source": [
        "# Create data to view and fit\n",
        "\n",
        "import numpy as np\n",
        "import matplotlib.pyplot as plt\n",
        "\n",
        "# create features\n",
        "X = np.array([-7.0, -4.0, -1.0, 2.0, 5.0, 8.0, 11.0, 14.0])\n",
        "\n",
        "# create labels\n",
        "y = np.array([3.0, 6.0, 9.0, 12.0, 15.0, 18.0, 21.0, 24.0])\n",
        "\n",
        "# visualize it\n",
        "plt.scatter(X, y)"
      ],
      "metadata": {
        "colab": {
          "base_uri": "https://localhost:8080/",
          "height": 454
        },
        "id": "SR29Eh5HOd7a",
        "outputId": "07b831d1-33e2-4770-dbf6-800a7bc2cf6e"
      },
      "execution_count": 3,
      "outputs": [
        {
          "output_type": "execute_result",
          "data": {
            "text/plain": [
              "<matplotlib.collections.PathCollection at 0x7f7a963f7130>"
            ]
          },
          "metadata": {},
          "execution_count": 3
        },
        {
          "output_type": "display_data",
          "data": {
            "text/plain": [
              "<Figure size 640x480 with 1 Axes>"
            ],
            "image/png": "[encoded data removed]"
          },
          "metadata": {}
        }
      ]
    },
    {
      "cell_type": "markdown",
      "source": [
        "# Input and output shapes\n"
      ],
      "metadata": {
        "id": "rOvo1FwjP4es"
      }
    },
    {
      "cell_type": "code",
      "source": [
        "# create a demo tensor for our housing price prediction problem\n",
        "house_info = tf.constant(['bedroom', 'bathroom', 'garage'])\n",
        "house_price = tf.constant([936400])\n",
        "house_info, house_price"
      ],
      "metadata": {
        "colab": {
          "base_uri": "https://localhost:8080/"
        },
        "id": "sglA4GP_PflJ",
        "outputId": "6b4bdf61-b753-4758-e625-803746eca9bb"
      },
      "execution_count": 4,
      "outputs": [
        {
          "output_type": "execute_result",
          "data": {
            "text/plain": [
              "(<tf.Tensor: shape=(3,), dtype=string, numpy=array([b'bedroom', b'bathroom', b'garage'], dtype=object)>,\n",
              " <tf.Tensor: shape=(1,), dtype=int32, numpy=array([936400], dtype=int32)>)"
            ]
          },
          "metadata": {},
          "execution_count": 4
        }
      ]
    },
    {
      "cell_type": "code",
      "source": [
        "# checking shape of X, y\n",
        "\n",
        "input_shape = X.shape\n",
        "output_shape = y.shape\n",
        "input_shape, output_shape"
      ],
      "metadata": {
        "colab": {
          "base_uri": "https://localhost:8080/"
        },
        "id": "b2BuWj1uQ8BG",
        "outputId": "7ad8d5ab-c0ba-4643-847d-0d72e48464e3"
      },
      "execution_count": 5,
      "outputs": [
        {
          "output_type": "execute_result",
          "data": {
            "text/plain": [
              "((8,), (8,))"
            ]
          },
          "metadata": {},
          "execution_count": 5
        }
      ]
    },
    {
      "cell_type": "code",
      "source": [
        "X.ndim"
      ],
      "metadata": {
        "colab": {
          "base_uri": "https://localhost:8080/"
        },
        "id": "wrBiHaVWRrEt",
        "outputId": "42b1f4a7-f99a-476d-b694-bb114fc26c9a"
      },
      "execution_count": 6,
      "outputs": [
        {
          "output_type": "execute_result",
          "data": {
            "text/plain": [
              "1"
            ]
          },
          "metadata": {},
          "execution_count": 6
        }
      ]
    },
    {
      "cell_type": "code",
      "source": [
        "# Turn our numpy arrays into tensors\n",
        "\n",
        "X = tf.constant(X)\n",
        "y = tf.constant(y)\n",
        "X, y"
      ],
      "metadata": {
        "colab": {
          "base_uri": "https://localhost:8080/"
        },
        "id": "ZZB6HfxhRvG-",
        "outputId": "1f9e33fd-fa0a-438c-ced5-86ee8b56d890"
      },
      "execution_count": 7,
      "outputs": [
        {
          "output_type": "execute_result",
          "data": {
            "text/plain": [
              "(<tf.Tensor: shape=(8,), dtype=float64, numpy=array([-7., -4., -1.,  2.,  5.,  8., 11., 14.])>,\n",
              " <tf.Tensor: shape=(8,), dtype=float64, numpy=array([ 3.,  6.,  9., 12., 15., 18., 21., 24.])>)"
            ]
          },
          "metadata": {},
          "execution_count": 7
        }
      ]
    },
    {
      "cell_type": "code",
      "source": [
        "plt.scatter(X, y)"
      ],
      "metadata": {
        "colab": {
          "base_uri": "https://localhost:8080/",
          "height": 454
        },
        "id": "k0LMjnZWSMEM",
        "outputId": "29ffc6fa-333a-46b6-b4d2-c502bdac4773"
      },
      "execution_count": 8,
      "outputs": [
        {
          "output_type": "execute_result",
          "data": {
            "text/plain": [
              "<matplotlib.collections.PathCollection at 0x7f7a94332b00>"
            ]
          },
          "metadata": {},
          "execution_count": 8
        },
        {
          "output_type": "display_data",
          "data": {
            "text/plain": [
              "<Figure size 640x480 with 1 Axes>"
            ],
            "image/png": "[encoded data removed]"
          },
          "metadata": {}
        }
      ]
    },
    {
      "cell_type": "markdown",
      "source": [
        "# Steps in modelling with TensorFlow"
      ],
      "metadata": {
        "id": "1kjIC-KcSQ6P"
      }
    },
    {
      "cell_type": "markdown",
      "source": [
        " 1. __Creating a model__ - piece together the layers of a neural network yourself (using the Functional or Sequential API) or import a previously built model (known as transfer learning). <br>\n",
        " 2. __Compiling a model__ - defining how a models performance should be measured (loss/metrics) as well as defining how it should improve (optimizer). <br>\n",
        " 3. __Fitting a model__ - letting the model try to find patterns in the data (how does X get to y).  "
      ],
      "metadata": {
        "id": "I8MkDY62SWNd"
      }
    },
    {
      "cell_type": "code",
      "source": [
        "# set random seed\n",
        "tf.random.set_seed(42)\n",
        "\n",
        "# 1. Create a model using the Sequential API\n",
        "model = tf.keras.Sequential([\n",
        "    tf.keras.layers.Dense(1)\n",
        "])\n",
        "\n",
        "# 2. Compile our model\n",
        "model.compile(loss=tf.keras.losses.mae, # Mean absolue error\n",
        "              optimizer= tf.keras.optimizers.SGD(), # stochastic gradient descent)\n",
        "              metrics= ['mae'])\n",
        "\n",
        "# Fit the model\n",
        "model.fit(tf.expand_dims(X, axis=-1), y, epochs=5)"
      ],
      "metadata": {
        "colab": {
          "base_uri": "https://localhost:8080/"
        },
        "id": "bGcrk3xBSN7r",
        "outputId": "a288307b-7eee-43ba-ae21-ddad5d78f834"
      },
      "execution_count": 9,
      "outputs": [
        {
          "output_type": "stream",
          "name": "stdout",
          "text": [
            "Epoch 1/5\n",
            "1/1 [==============================] - 2s 2s/step - loss: 12.9365 - mae: 12.9365\n",
            "Epoch 2/5\n",
            "1/1 [==============================] - 0s 38ms/step - loss: 12.8040 - mae: 12.8040\n",
            "Epoch 3/5\n",
            "1/1 [==============================] - 0s 31ms/step - loss: 12.6715 - mae: 12.6715\n",
            "Epoch 4/5\n",
            "1/1 [==============================] - 0s 22ms/step - loss: 12.5390 - mae: 12.5390\n",
            "Epoch 5/5\n",
            "1/1 [==============================] - 0s 16ms/step - loss: 12.4065 - mae: 12.4065\n"
          ]
        },
        {
          "output_type": "execute_result",
          "data": {
            "text/plain": [
              "<keras.callbacks.History at 0x7f7a9128f970>"
            ]
          },
          "metadata": {},
          "execution_count": 9
        }
      ]
    },
    {
      "cell_type": "code",
      "source": [
        "# check out x and y\n",
        "\n",
        "X, y"
      ],
      "metadata": {
        "colab": {
          "base_uri": "https://localhost:8080/"
        },
        "id": "YTGhUwJ0YDJK",
        "outputId": "f0e8d16f-38f4-4647-e89c-0033fbc27080"
      },
      "execution_count": 10,
      "outputs": [
        {
          "output_type": "execute_result",
          "data": {
            "text/plain": [
              "(<tf.Tensor: shape=(8,), dtype=float64, numpy=array([-7., -4., -1.,  2.,  5.,  8., 11., 14.])>,\n",
              " <tf.Tensor: shape=(8,), dtype=float64, numpy=array([ 3.,  6.,  9., 12., 15., 18., 21., 24.])>)"
            ]
          },
          "metadata": {},
          "execution_count": 10
        }
      ]
    },
    {
      "cell_type": "code",
      "source": [
        "# Try and make prediction using our model\n",
        "y_pred = model.predict([8.0])\n",
        "y_pred"
      ],
      "metadata": {
        "colab": {
          "base_uri": "https://localhost:8080/"
        },
        "id": "H-rJ-Jk3YGm3",
        "outputId": "5693b65e-07e5-4b57-a738-9aa545089d2a"
      },
      "execution_count": 11,
      "outputs": [
        {
          "output_type": "stream",
          "name": "stdout",
          "text": [
            "1/1 [==============================] - 0s 165ms/step\n"
          ]
        },
        {
          "output_type": "execute_result",
          "data": {
            "text/plain": [
              "array([[2.7380333]], dtype=float32)"
            ]
          },
          "metadata": {},
          "execution_count": 11
        }
      ]
    },
    {
      "cell_type": "markdown",
      "source": [
        "# Improving our model\n",
        "\n",
        "We can improve our model by altering the steps we took to create a model.\n",
        "\n",
        " 1. __Creating a model__ - here you might want to add more layers, increase the number of hidden units (also called neurons) within each layer, change the activation functions of each layer. <br>\n",
        " 2. __Compiling a model__ - you might want to choose optimization function or perhaps change the learning rate of the optimization function. <br>\n",
        " 3. __Fitting a model__ - perhaps you could fit a model for more epochs (leave it training for longer) or on more data (give the model more examples to learn from). "
      ],
      "metadata": {
        "id": "iyyJ1_MCZZeE"
      }
    },
    {
      "cell_type": "code",
      "source": [
        "# Improving our model - Commission 1\n",
        "# 1. Create the model\n",
        "model = tf.keras.Sequential([\n",
        "    tf.keras.layers.Dense(1)\n",
        "])\n",
        "\n",
        "# 2. Compile the model\n",
        "model.compile(loss=tf.keras.losses.mae,\n",
        "              optimizer=tf.keras.optimizers.SGD(),\n",
        "              metrics=['mae'])\n",
        "\n",
        "# 3. Fit the model\n",
        "model.fit(tf.expand_dims(X, axis=-1), y, epochs=100)"
      ],
      "metadata": {
        "colab": {
          "base_uri": "https://localhost:8080/"
        },
        "id": "huv-N5sjYR8G",
        "outputId": "fba86a09-4459-45dc-bd73-cbd73692c79e"
      },
      "execution_count": 12,
      "outputs": [
        {
          "output_type": "stream",
          "name": "stdout",
          "text": [
            "Epoch 1/100\n",
            "1/1 [==============================] - 1s 790ms/step - loss: 15.1872 - mae: 15.1872\n",
            "Epoch 2/100\n",
            "1/1 [==============================] - 0s 24ms/step - loss: 14.9336 - mae: 14.9336\n",
            "Epoch 3/100\n",
            "1/1 [==============================] - 0s 17ms/step - loss: 14.8011 - mae: 14.8011\n",
            "Epoch 4/100\n",
            "1/1 [==============================] - 0s 20ms/step - loss: 14.6686 - mae: 14.6686\n",
            "Epoch 5/100\n",
            "1/1 [==============================] - 0s 26ms/step - loss: 14.5361 - mae: 14.5361\n",
            "Epoch 6/100\n",
            "1/1 [==============================] - 0s 41ms/step - loss: 14.4036 - mae: 14.4036\n",
            "Epoch 7/100\n",
            "1/1 [==============================] - 0s 23ms/step - loss: 14.2711 - mae: 14.2711\n",
            "Epoch 8/100\n",
            "1/1 [==============================] - 0s 28ms/step - loss: 14.1386 - mae: 14.1386\n",
            "Epoch 9/100\n",
            "1/1 [==============================] - 0s 32ms/step - loss: 14.0061 - mae: 14.0061\n",
            "Epoch 10/100\n",
            "1/1 [==============================] - 0s 19ms/step - loss: 13.8736 - mae: 13.8736\n",
            "Epoch 11/100\n",
            "1/1 [==============================] - 0s 23ms/step - loss: 13.7411 - mae: 13.7411\n",
            "Epoch 12/100\n",
            "1/1 [==============================] - 0s 20ms/step - loss: 13.6086 - mae: 13.6086\n",
            "Epoch 13/100\n",
            "1/1 [==============================] - 0s 18ms/step - loss: 13.4761 - mae: 13.4761\n",
            "Epoch 14/100\n",
            "1/1 [==============================] - 0s 30ms/step - loss: 13.3436 - mae: 13.3436\n",
            "Epoch 15/100\n",
            "1/1 [==============================] - 0s 26ms/step - loss: 13.2111 - mae: 13.2111\n",
            "Epoch 16/100\n",
            "1/1 [==============================] - 0s 19ms/step - loss: 13.0786 - mae: 13.0786\n",
            "Epoch 17/100\n",
            "1/1 [==============================] - 0s 20ms/step - loss: 12.9461 - mae: 12.9461\n",
            "Epoch 18/100\n",
            "1/1 [==============================] - 0s 22ms/step - loss: 12.8136 - mae: 12.8136\n",
            "Epoch 19/100\n",
            "1/1 [==============================] - 0s 21ms/step - loss: 12.6811 - mae: 12.6811\n",
            "Epoch 20/100\n",
            "1/1 [==============================] - 0s 22ms/step - loss: 12.5486 - mae: 12.5486\n",
            "Epoch 21/100\n",
            "1/1 [==============================] - 0s 20ms/step - loss: 12.4161 - mae: 12.4161\n",
            "Epoch 22/100\n",
            "1/1 [==============================] - 0s 21ms/step - loss: 12.2836 - mae: 12.2836\n",
            "Epoch 23/100\n",
            "1/1 [==============================] - 0s 21ms/step - loss: 12.1511 - mae: 12.1511\n",
            "Epoch 24/100\n",
            "1/1 [==============================] - 0s 22ms/step - loss: 12.0186 - mae: 12.0186\n",
            "Epoch 25/100\n",
            "1/1 [==============================] - 0s 23ms/step - loss: 11.8861 - mae: 11.8861\n",
            "Epoch 26/100\n",
            "1/1 [==============================] - 0s 22ms/step - loss: 11.7536 - mae: 11.7536\n",
            "Epoch 27/100\n",
            "1/1 [==============================] - 0s 19ms/step - loss: 11.6211 - mae: 11.6211\n",
            "Epoch 28/100\n",
            "1/1 [==============================] - 0s 15ms/step - loss: 11.4886 - mae: 11.4886\n",
            "Epoch 29/100\n",
            "1/1 [==============================] - 0s 30ms/step - loss: 11.3561 - mae: 11.3561\n",
            "Epoch 30/100\n",
            "1/1 [==============================] - 0s 35ms/step - loss: 11.2236 - mae: 11.2236\n",
            "Epoch 31/100\n",
            "1/1 [==============================] - 0s 26ms/step - loss: 11.0911 - mae: 11.0911\n",
            "Epoch 32/100\n",
            "1/1 [==============================] - 0s 28ms/step - loss: 10.9586 - mae: 10.9586\n",
            "Epoch 33/100\n",
            "1/1 [==============================] - 0s 28ms/step - loss: 10.8261 - mae: 10.8261\n",
            "Epoch 34/100\n",
            "1/1 [==============================] - 0s 35ms/step - loss: 10.6936 - mae: 10.6936\n",
            "Epoch 35/100\n",
            "1/1 [==============================] - 0s 31ms/step - loss: 10.5611 - mae: 10.5611\n",
            "Epoch 36/100\n",
            "1/1 [==============================] - 0s 12ms/step - loss: 10.4286 - mae: 10.4286\n",
            "Epoch 37/100\n",
            "1/1 [==============================] - 0s 23ms/step - loss: 10.2961 - mae: 10.2961\n",
            "Epoch 38/100\n",
            "1/1 [==============================] - 0s 20ms/step - loss: 10.1636 - mae: 10.1636\n",
            "Epoch 39/100\n",
            "1/1 [==============================] - 0s 18ms/step - loss: 10.0311 - mae: 10.0311\n",
            "Epoch 40/100\n",
            "1/1 [==============================] - 0s 26ms/step - loss: 9.8986 - mae: 9.8986\n",
            "Epoch 41/100\n",
            "1/1 [==============================] - 0s 32ms/step - loss: 9.7661 - mae: 9.7661\n",
            "Epoch 42/100\n",
            "1/1 [==============================] - 0s 23ms/step - loss: 9.6336 - mae: 9.6336\n",
            "Epoch 43/100\n",
            "1/1 [==============================] - 0s 21ms/step - loss: 9.5011 - mae: 9.5011\n",
            "Epoch 44/100\n",
            "1/1 [==============================] - 0s 24ms/step - loss: 9.3686 - mae: 9.3686\n",
            "Epoch 45/100\n",
            "1/1 [==============================] - 0s 23ms/step - loss: 9.2361 - mae: 9.2361\n",
            "Epoch 46/100\n",
            "1/1 [==============================] - 0s 33ms/step - loss: 9.1036 - mae: 9.1036\n",
            "Epoch 47/100\n",
            "1/1 [==============================] - 0s 19ms/step - loss: 8.9711 - mae: 8.9711\n",
            "Epoch 48/100\n",
            "1/1 [==============================] - 0s 33ms/step - loss: 8.8386 - mae: 8.8386\n",
            "Epoch 49/100\n",
            "1/1 [==============================] - 0s 20ms/step - loss: 8.7061 - mae: 8.7061\n",
            "Epoch 50/100\n",
            "1/1 [==============================] - 0s 36ms/step - loss: 8.5736 - mae: 8.5736\n",
            "Epoch 51/100\n",
            "1/1 [==============================] - 0s 22ms/step - loss: 8.4411 - mae: 8.4411\n",
            "Epoch 52/100\n",
            "1/1 [==============================] - 0s 24ms/step - loss: 8.3086 - mae: 8.3086\n",
            "Epoch 53/100\n",
            "1/1 [==============================] - 0s 23ms/step - loss: 8.1761 - mae: 8.1761\n",
            "Epoch 54/100\n",
            "1/1 [==============================] - 0s 24ms/step - loss: 8.0436 - mae: 8.0436\n",
            "Epoch 55/100\n",
            "1/1 [==============================] - 0s 13ms/step - loss: 7.9111 - mae: 7.9111\n",
            "Epoch 56/100\n",
            "1/1 [==============================] - 0s 16ms/step - loss: 7.7786 - mae: 7.7786\n",
            "Epoch 57/100\n",
            "1/1 [==============================] - 0s 30ms/step - loss: 7.6461 - mae: 7.6461\n",
            "Epoch 58/100\n",
            "1/1 [==============================] - 0s 15ms/step - loss: 7.5136 - mae: 7.5136\n",
            "Epoch 59/100\n",
            "1/1 [==============================] - 0s 17ms/step - loss: 7.3811 - mae: 7.3811\n",
            "Epoch 60/100\n",
            "1/1 [==============================] - 0s 15ms/step - loss: 7.2486 - mae: 7.2486\n",
            "Epoch 61/100\n",
            "1/1 [==============================] - 0s 31ms/step - loss: 7.1161 - mae: 7.1161\n",
            "Epoch 62/100\n",
            "1/1 [==============================] - 0s 18ms/step - loss: 7.0444 - mae: 7.0444\n",
            "Epoch 63/100\n",
            "1/1 [==============================] - 0s 17ms/step - loss: 7.0387 - mae: 7.0387\n",
            "Epoch 64/100\n",
            "1/1 [==============================] - 0s 19ms/step - loss: 7.0331 - mae: 7.0331\n",
            "Epoch 65/100\n",
            "1/1 [==============================] - 0s 26ms/step - loss: 7.0275 - mae: 7.0275\n",
            "Epoch 66/100\n",
            "1/1 [==============================] - 0s 24ms/step - loss: 7.0219 - mae: 7.0219\n",
            "Epoch 67/100\n",
            "1/1 [==============================] - 0s 26ms/step - loss: 7.0163 - mae: 7.0163\n",
            "Epoch 68/100\n",
            "1/1 [==============================] - 0s 23ms/step - loss: 7.0106 - mae: 7.0106\n",
            "Epoch 69/100\n",
            "1/1 [==============================] - 0s 18ms/step - loss: 7.0050 - mae: 7.0050\n",
            "Epoch 70/100\n",
            "1/1 [==============================] - 0s 14ms/step - loss: 6.9994 - mae: 6.9994\n",
            "Epoch 71/100\n",
            "1/1 [==============================] - 0s 42ms/step - loss: 6.9938 - mae: 6.9938\n",
            "Epoch 72/100\n",
            "1/1 [==============================] - 0s 25ms/step - loss: 6.9881 - mae: 6.9881\n",
            "Epoch 73/100\n",
            "1/1 [==============================] - 0s 36ms/step - loss: 6.9825 - mae: 6.9825\n",
            "Epoch 74/100\n",
            "1/1 [==============================] - 0s 24ms/step - loss: 6.9769 - mae: 6.9769\n",
            "Epoch 75/100\n",
            "1/1 [==============================] - 0s 21ms/step - loss: 6.9712 - mae: 6.9712\n",
            "Epoch 76/100\n",
            "1/1 [==============================] - 0s 24ms/step - loss: 6.9656 - mae: 6.9656\n",
            "Epoch 77/100\n",
            "1/1 [==============================] - 0s 20ms/step - loss: 6.9600 - mae: 6.9600\n",
            "Epoch 78/100\n",
            "1/1 [==============================] - 0s 15ms/step - loss: 6.9544 - mae: 6.9544\n",
            "Epoch 79/100\n",
            "1/1 [==============================] - 0s 21ms/step - loss: 6.9488 - mae: 6.9488\n",
            "Epoch 80/100\n",
            "1/1 [==============================] - 0s 20ms/step - loss: 6.9431 - mae: 6.9431\n",
            "Epoch 81/100\n",
            "1/1 [==============================] - 0s 21ms/step - loss: 6.9375 - mae: 6.9375\n",
            "Epoch 82/100\n",
            "1/1 [==============================] - 0s 25ms/step - loss: 6.9319 - mae: 6.9319\n",
            "Epoch 83/100\n",
            "1/1 [==============================] - 0s 23ms/step - loss: 6.9263 - mae: 6.9263\n",
            "Epoch 84/100\n",
            "1/1 [==============================] - 0s 21ms/step - loss: 6.9206 - mae: 6.9206\n",
            "Epoch 85/100\n",
            "1/1 [==============================] - 0s 24ms/step - loss: 6.9150 - mae: 6.9150\n",
            "Epoch 86/100\n",
            "1/1 [==============================] - 0s 30ms/step - loss: 6.9094 - mae: 6.9094\n",
            "Epoch 87/100\n",
            "1/1 [==============================] - 0s 42ms/step - loss: 6.9038 - mae: 6.9038\n",
            "Epoch 88/100\n",
            "1/1 [==============================] - 0s 28ms/step - loss: 6.8981 - mae: 6.8981\n",
            "Epoch 89/100\n",
            "1/1 [==============================] - 0s 27ms/step - loss: 6.8925 - mae: 6.8925\n",
            "Epoch 90/100\n",
            "1/1 [==============================] - 0s 45ms/step - loss: 6.8869 - mae: 6.8869\n",
            "Epoch 91/100\n",
            "1/1 [==============================] - 0s 33ms/step - loss: 6.8813 - mae: 6.8813\n",
            "Epoch 92/100\n",
            "1/1 [==============================] - 0s 24ms/step - loss: 6.8756 - mae: 6.8756\n",
            "Epoch 93/100\n",
            "1/1 [==============================] - 0s 22ms/step - loss: 6.8700 - mae: 6.8700\n",
            "Epoch 94/100\n",
            "1/1 [==============================] - 0s 29ms/step - loss: 6.8644 - mae: 6.8644\n",
            "Epoch 95/100\n",
            "1/1 [==============================] - 0s 24ms/step - loss: 6.8588 - mae: 6.8588\n",
            "Epoch 96/100\n",
            "1/1 [==============================] - 0s 24ms/step - loss: 6.8531 - mae: 6.8531\n",
            "Epoch 97/100\n",
            "1/1 [==============================] - 0s 22ms/step - loss: 6.8475 - mae: 6.8475\n",
            "Epoch 98/100\n",
            "1/1 [==============================] - 0s 16ms/step - loss: 6.8419 - mae: 6.8419\n",
            "Epoch 99/100\n",
            "1/1 [==============================] - 0s 14ms/step - loss: 6.8363 - mae: 6.8363\n",
            "Epoch 100/100\n",
            "1/1 [==============================] - 0s 17ms/step - loss: 6.8306 - mae: 6.8306\n"
          ]
        },
        {
          "output_type": "execute_result",
          "data": {
            "text/plain": [
              "<keras.callbacks.History at 0x7f7a908b99c0>"
            ]
          },
          "metadata": {},
          "execution_count": 12
        }
      ]
    },
    {
      "cell_type": "code",
      "source": [
        "# Remind ourselves of the data\n",
        "X, y"
      ],
      "metadata": {
        "colab": {
          "base_uri": "https://localhost:8080/"
        },
        "id": "0P_3LLqNcJIN",
        "outputId": "3e4dae7e-fe96-404d-b68f-f22c52234cfd"
      },
      "execution_count": 13,
      "outputs": [
        {
          "output_type": "execute_result",
          "data": {
            "text/plain": [
              "(<tf.Tensor: shape=(8,), dtype=float64, numpy=array([-7., -4., -1.,  2.,  5.,  8., 11., 14.])>,\n",
              " <tf.Tensor: shape=(8,), dtype=float64, numpy=array([ 3.,  6.,  9., 12., 15., 18., 21., 24.])>)"
            ]
          },
          "metadata": {},
          "execution_count": 13
        }
      ]
    },
    {
      "cell_type": "code",
      "source": [
        "# Let's see if our model's predcition is improved\n",
        "model.predict([17.0])"
      ],
      "metadata": {
        "colab": {
          "base_uri": "https://localhost:8080/"
        },
        "id": "uxOtRf_TcrFe",
        "outputId": "d18a2f5d-345e-414c-b06f-c4df10bb758e"
      },
      "execution_count": 14,
      "outputs": [
        {
          "output_type": "stream",
          "name": "stdout",
          "text": [
            "1/1 [==============================] - 0s 167ms/step\n"
          ]
        },
        {
          "output_type": "execute_result",
          "data": {
            "text/plain": [
              "array([[29.600536]], dtype=float32)"
            ]
          },
          "metadata": {},
          "execution_count": 14
        }
      ]
    },
    {
      "cell_type": "code",
      "source": [
        "# Improving the model - Commission 2\n",
        "# Create the model\n",
        "model = tf.keras.Sequential([\n",
        "    tf.keras.layers.Dense(50, activation=None),\n",
        "    tf.keras.layers.Dense(1)\n",
        "])\n",
        "\n",
        "# Compile our model \n",
        "model.compile(loss=tf.keras.losses.mae,\n",
        "              optimizer= tf.keras.optimizers.Adam(learning_rate=0.01),\n",
        "              metrics=['mae'])\n",
        "\n",
        "# Fit the model\n",
        "model.fit(tf.expand_dims(X, axis=-1), y, epochs=100)"
      ],
      "metadata": {
        "colab": {
          "base_uri": "https://localhost:8080/"
        },
        "id": "r9cfVya9czSA",
        "outputId": "e48f1d33-2b0f-4be0-f5ce-63907b2cbb66"
      },
      "execution_count": 15,
      "outputs": [
        {
          "output_type": "stream",
          "name": "stdout",
          "text": [
            "Epoch 1/100\n",
            "1/1 [==============================] - 2s 2s/step - loss: 13.7546 - mae: 13.7546\n",
            "Epoch 2/100\n",
            "1/1 [==============================] - 0s 21ms/step - loss: 13.0664 - mae: 13.0664\n",
            "Epoch 3/100\n",
            "1/1 [==============================] - 0s 15ms/step - loss: 12.3753 - mae: 12.3753\n",
            "Epoch 4/100\n",
            "1/1 [==============================] - 0s 14ms/step - loss: 11.6807 - mae: 11.6807\n",
            "Epoch 5/100\n",
            "1/1 [==============================] - 0s 14ms/step - loss: 10.9809 - mae: 10.9809\n",
            "Epoch 6/100\n",
            "1/1 [==============================] - 0s 14ms/step - loss: 10.2733 - mae: 10.2733\n",
            "Epoch 7/100\n",
            "1/1 [==============================] - 0s 14ms/step - loss: 9.5552 - mae: 9.5552\n",
            "Epoch 8/100\n",
            "1/1 [==============================] - 0s 20ms/step - loss: 8.8238 - mae: 8.8238\n",
            "Epoch 9/100\n",
            "1/1 [==============================] - 0s 15ms/step - loss: 8.0765 - mae: 8.0765\n",
            "Epoch 10/100\n",
            "1/1 [==============================] - 0s 17ms/step - loss: 7.3111 - mae: 7.3111\n",
            "Epoch 11/100\n",
            "1/1 [==============================] - 0s 12ms/step - loss: 6.7611 - mae: 6.7611\n",
            "Epoch 12/100\n",
            "1/1 [==============================] - 0s 13ms/step - loss: 6.8893 - mae: 6.8893\n",
            "Epoch 13/100\n",
            "1/1 [==============================] - 0s 12ms/step - loss: 7.1859 - mae: 7.1859\n",
            "Epoch 14/100\n",
            "1/1 [==============================] - 0s 11ms/step - loss: 7.4034 - mae: 7.4034\n",
            "Epoch 15/100\n",
            "1/1 [==============================] - 0s 14ms/step - loss: 7.5151 - mae: 7.5151\n",
            "Epoch 16/100\n",
            "1/1 [==============================] - 0s 12ms/step - loss: 7.4256 - mae: 7.4256\n",
            "Epoch 17/100\n",
            "1/1 [==============================] - 0s 12ms/step - loss: 7.1843 - mae: 7.1843\n",
            "Epoch 18/100\n",
            "1/1 [==============================] - 0s 12ms/step - loss: 6.9286 - mae: 6.9286\n",
            "Epoch 19/100\n",
            "1/1 [==============================] - 0s 13ms/step - loss: 6.6787 - mae: 6.6787\n",
            "Epoch 20/100\n",
            "1/1 [==============================] - 0s 13ms/step - loss: 6.4112 - mae: 6.4112\n",
            "Epoch 21/100\n",
            "1/1 [==============================] - 0s 12ms/step - loss: 6.1590 - mae: 6.1590\n",
            "Epoch 22/100\n",
            "1/1 [==============================] - 0s 11ms/step - loss: 6.1159 - mae: 6.1159\n",
            "Epoch 23/100\n",
            "1/1 [==============================] - 0s 12ms/step - loss: 6.0688 - mae: 6.0688\n",
            "Epoch 24/100\n",
            "1/1 [==============================] - 0s 12ms/step - loss: 6.2033 - mae: 6.2033\n",
            "Epoch 25/100\n",
            "1/1 [==============================] - 0s 12ms/step - loss: 6.2383 - mae: 6.2383\n",
            "Epoch 26/100\n",
            "1/1 [==============================] - 0s 13ms/step - loss: 6.1729 - mae: 6.1729\n",
            "Epoch 27/100\n",
            "1/1 [==============================] - 0s 12ms/step - loss: 6.0193 - mae: 6.0193\n",
            "Epoch 28/100\n",
            "1/1 [==============================] - 0s 14ms/step - loss: 5.7864 - mae: 5.7864\n",
            "Epoch 29/100\n",
            "1/1 [==============================] - 0s 12ms/step - loss: 5.6067 - mae: 5.6067\n",
            "Epoch 30/100\n",
            "1/1 [==============================] - 0s 12ms/step - loss: 5.5031 - mae: 5.5031\n",
            "Epoch 31/100\n",
            "1/1 [==============================] - 0s 15ms/step - loss: 5.4141 - mae: 5.4141\n",
            "Epoch 32/100\n",
            "1/1 [==============================] - 0s 14ms/step - loss: 5.4163 - mae: 5.4163\n",
            "Epoch 33/100\n",
            "1/1 [==============================] - 0s 15ms/step - loss: 5.3738 - mae: 5.3738\n",
            "Epoch 34/100\n",
            "1/1 [==============================] - 0s 18ms/step - loss: 5.2902 - mae: 5.2902\n",
            "Epoch 35/100\n",
            "1/1 [==============================] - 0s 12ms/step - loss: 5.1692 - mae: 5.1692\n",
            "Epoch 36/100\n",
            "1/1 [==============================] - 0s 11ms/step - loss: 5.0143 - mae: 5.0143\n",
            "Epoch 37/100\n",
            "1/1 [==============================] - 0s 15ms/step - loss: 4.8564 - mae: 4.8564\n",
            "Epoch 38/100\n",
            "1/1 [==============================] - 0s 12ms/step - loss: 4.7695 - mae: 4.7695\n",
            "Epoch 39/100\n",
            "1/1 [==============================] - 0s 16ms/step - loss: 4.6761 - mae: 4.6761\n",
            "Epoch 40/100\n",
            "1/1 [==============================] - 0s 12ms/step - loss: 4.5760 - mae: 4.5760\n",
            "Epoch 41/100\n",
            "1/1 [==============================] - 0s 17ms/step - loss: 4.4692 - mae: 4.4692\n",
            "Epoch 42/100\n",
            "1/1 [==============================] - 0s 10ms/step - loss: 4.3556 - mae: 4.3556\n",
            "Epoch 43/100\n",
            "1/1 [==============================] - 0s 20ms/step - loss: 4.2653 - mae: 4.2653\n",
            "Epoch 44/100\n",
            "1/1 [==============================] - 0s 13ms/step - loss: 4.0965 - mae: 4.0965\n",
            "Epoch 45/100\n",
            "1/1 [==============================] - 0s 16ms/step - loss: 3.9514 - mae: 3.9514\n",
            "Epoch 46/100\n",
            "1/1 [==============================] - 0s 12ms/step - loss: 3.7995 - mae: 3.7995\n",
            "Epoch 47/100\n",
            "1/1 [==============================] - 0s 14ms/step - loss: 3.6404 - mae: 3.6404\n",
            "Epoch 48/100\n",
            "1/1 [==============================] - 0s 12ms/step - loss: 3.5272 - mae: 3.5272\n",
            "Epoch 49/100\n",
            "1/1 [==============================] - 0s 12ms/step - loss: 3.3905 - mae: 3.3905\n",
            "Epoch 50/100\n",
            "1/1 [==============================] - 0s 12ms/step - loss: 3.2003 - mae: 3.2003\n",
            "Epoch 51/100\n",
            "1/1 [==============================] - 0s 12ms/step - loss: 2.9969 - mae: 2.9969\n",
            "Epoch 52/100\n",
            "1/1 [==============================] - 0s 13ms/step - loss: 2.8302 - mae: 2.8302\n",
            "Epoch 53/100\n",
            "1/1 [==============================] - 0s 12ms/step - loss: 2.6525 - mae: 2.6525\n",
            "Epoch 54/100\n",
            "1/1 [==============================] - 0s 12ms/step - loss: 2.4830 - mae: 2.4830\n",
            "Epoch 55/100\n",
            "1/1 [==============================] - 0s 15ms/step - loss: 2.2514 - mae: 2.2514\n",
            "Epoch 56/100\n",
            "1/1 [==============================] - 0s 15ms/step - loss: 2.0288 - mae: 2.0288\n",
            "Epoch 57/100\n",
            "1/1 [==============================] - 0s 13ms/step - loss: 1.8523 - mae: 1.8523\n",
            "Epoch 58/100\n",
            "1/1 [==============================] - 0s 19ms/step - loss: 1.6345 - mae: 1.6345\n",
            "Epoch 59/100\n",
            "1/1 [==============================] - 0s 19ms/step - loss: 1.3464 - mae: 1.3464\n",
            "Epoch 60/100\n",
            "1/1 [==============================] - 0s 12ms/step - loss: 1.1593 - mae: 1.1593\n",
            "Epoch 61/100\n",
            "1/1 [==============================] - 0s 12ms/step - loss: 0.9150 - mae: 0.9150\n",
            "Epoch 62/100\n",
            "1/1 [==============================] - 0s 12ms/step - loss: 0.5989 - mae: 0.5989\n",
            "Epoch 63/100\n",
            "1/1 [==============================] - 0s 12ms/step - loss: 0.3946 - mae: 0.3946\n",
            "Epoch 64/100\n",
            "1/1 [==============================] - 0s 12ms/step - loss: 0.0537 - mae: 0.0537\n",
            "Epoch 65/100\n",
            "1/1 [==============================] - 0s 13ms/step - loss: 0.2665 - mae: 0.2665\n",
            "Epoch 66/100\n",
            "1/1 [==============================] - 0s 13ms/step - loss: 0.5496 - mae: 0.5496\n",
            "Epoch 67/100\n",
            "1/1 [==============================] - 0s 16ms/step - loss: 0.6584 - mae: 0.6584\n",
            "Epoch 68/100\n",
            "1/1 [==============================] - 0s 11ms/step - loss: 0.8581 - mae: 0.8581\n",
            "Epoch 69/100\n",
            "1/1 [==============================] - 0s 13ms/step - loss: 0.8951 - mae: 0.8951\n",
            "Epoch 70/100\n",
            "1/1 [==============================] - 0s 11ms/step - loss: 0.8801 - mae: 0.8801\n",
            "Epoch 71/100\n",
            "1/1 [==============================] - 0s 13ms/step - loss: 0.9058 - mae: 0.9058\n",
            "Epoch 72/100\n",
            "1/1 [==============================] - 0s 13ms/step - loss: 0.8336 - mae: 0.8336\n",
            "Epoch 73/100\n",
            "1/1 [==============================] - 0s 12ms/step - loss: 0.6940 - mae: 0.6940\n",
            "Epoch 74/100\n",
            "1/1 [==============================] - 0s 14ms/step - loss: 0.6431 - mae: 0.6431\n",
            "Epoch 75/100\n",
            "1/1 [==============================] - 0s 13ms/step - loss: 0.4508 - mae: 0.4508\n",
            "Epoch 76/100\n",
            "1/1 [==============================] - 0s 13ms/step - loss: 0.3551 - mae: 0.3551\n",
            "Epoch 77/100\n",
            "1/1 [==============================] - 0s 12ms/step - loss: 0.1344 - mae: 0.1344\n",
            "Epoch 78/100\n",
            "1/1 [==============================] - 0s 14ms/step - loss: 0.1048 - mae: 0.1048\n",
            "Epoch 79/100\n",
            "1/1 [==============================] - 0s 12ms/step - loss: 0.2871 - mae: 0.2871\n",
            "Epoch 80/100\n",
            "1/1 [==============================] - 0s 11ms/step - loss: 0.3750 - mae: 0.3750\n",
            "Epoch 81/100\n",
            "1/1 [==============================] - 0s 13ms/step - loss: 0.3282 - mae: 0.3282\n",
            "Epoch 82/100\n",
            "1/1 [==============================] - 0s 12ms/step - loss: 0.3730 - mae: 0.3730\n",
            "Epoch 83/100\n",
            "1/1 [==============================] - 0s 12ms/step - loss: 0.3513 - mae: 0.3513\n",
            "Epoch 84/100\n",
            "1/1 [==============================] - 0s 12ms/step - loss: 0.2952 - mae: 0.2952\n",
            "Epoch 85/100\n",
            "1/1 [==============================] - 0s 12ms/step - loss: 0.2716 - mae: 0.2716\n",
            "Epoch 86/100\n",
            "1/1 [==============================] - 0s 12ms/step - loss: 0.1785 - mae: 0.1785\n",
            "Epoch 87/100\n",
            "1/1 [==============================] - 0s 11ms/step - loss: 0.0628 - mae: 0.0628\n",
            "Epoch 88/100\n",
            "1/1 [==============================] - 0s 16ms/step - loss: 0.1689 - mae: 0.1689\n",
            "Epoch 89/100\n",
            "1/1 [==============================] - 0s 12ms/step - loss: 0.1685 - mae: 0.1685\n",
            "Epoch 90/100\n",
            "1/1 [==============================] - 0s 12ms/step - loss: 0.2137 - mae: 0.2137\n",
            "Epoch 91/100\n",
            "1/1 [==============================] - 0s 12ms/step - loss: 0.2192 - mae: 0.2192\n",
            "Epoch 92/100\n",
            "1/1 [==============================] - 0s 17ms/step - loss: 0.2106 - mae: 0.2106\n",
            "Epoch 93/100\n",
            "1/1 [==============================] - 0s 15ms/step - loss: 0.2529 - mae: 0.2529\n",
            "Epoch 94/100\n",
            "1/1 [==============================] - 0s 18ms/step - loss: 0.1074 - mae: 0.1074\n",
            "Epoch 95/100\n",
            "1/1 [==============================] - 0s 13ms/step - loss: 0.2893 - mae: 0.2893\n",
            "Epoch 96/100\n",
            "1/1 [==============================] - 0s 15ms/step - loss: 0.2851 - mae: 0.2851\n",
            "Epoch 97/100\n",
            "1/1 [==============================] - 0s 13ms/step - loss: 0.1727 - mae: 0.1727\n",
            "Epoch 98/100\n",
            "1/1 [==============================] - 0s 12ms/step - loss: 0.2612 - mae: 0.2612\n",
            "Epoch 99/100\n",
            "1/1 [==============================] - 0s 12ms/step - loss: 0.1844 - mae: 0.1844\n",
            "Epoch 100/100\n",
            "1/1 [==============================] - 0s 13ms/step - loss: 0.2537 - mae: 0.2537\n"
          ]
        },
        {
          "output_type": "execute_result",
          "data": {
            "text/plain": [
              "<keras.callbacks.History at 0x7f7a91aa2ce0>"
            ]
          },
          "metadata": {},
          "execution_count": 15
        }
      ]
    },
    {
      "cell_type": "code",
      "source": [
        "# Let's remind ourseleves of data\n",
        "X, y"
      ],
      "metadata": {
        "colab": {
          "base_uri": "https://localhost:8080/"
        },
        "id": "zOPrCe5OeUpX",
        "outputId": "afdc8b97-5d7e-4e4d-f926-698e87d8f7f9"
      },
      "execution_count": 16,
      "outputs": [
        {
          "output_type": "execute_result",
          "data": {
            "text/plain": [
              "(<tf.Tensor: shape=(8,), dtype=float64, numpy=array([-7., -4., -1.,  2.,  5.,  8., 11., 14.])>,\n",
              " <tf.Tensor: shape=(8,), dtype=float64, numpy=array([ 3.,  6.,  9., 12., 15., 18., 21., 24.])>)"
            ]
          },
          "metadata": {},
          "execution_count": 16
        }
      ]
    },
    {
      "cell_type": "code",
      "source": [
        "# Let's try to make our prediction\n",
        "model.predict([17.0])"
      ],
      "metadata": {
        "colab": {
          "base_uri": "https://localhost:8080/"
        },
        "id": "l2P0h44AfnsV",
        "outputId": "00e0fbf2-6110-4688-989c-fd34311ae32c"
      },
      "execution_count": 17,
      "outputs": [
        {
          "output_type": "stream",
          "name": "stdout",
          "text": [
            "1/1 [==============================] - 0s 90ms/step\n"
          ]
        },
        {
          "output_type": "execute_result",
          "data": {
            "text/plain": [
              "array([[27.552399]], dtype=float32)"
            ]
          },
          "metadata": {},
          "execution_count": 17
        }
      ]
    },
    {
      "cell_type": "markdown",
      "source": [
        "# Evaluating the model\n",
        "\n",
        "In practice, a typical workflow you'll go through when building neural networks is :\n",
        "\n",
        "Build a model -> evaluate it -> build (tweak) a model -> evaulate it -> build (tweak) a model -> evaluate it..."
      ],
      "metadata": {
        "id": "LxR2IzziyyR-"
      }
    },
    {
      "cell_type": "markdown",
      "source": [
        "When it comes to evaluation, there are 3 words you should memorize:\n",
        "\n",
        " > \"visualize, visualize, visualize\"\n",
        "\n",
        "It's a good idea to visualize:\n",
        " -  The data - what data are you working with? What does it look like?\n",
        " - The model itself - what does the architecture look like? What are the different shapes?\n",
        " - The training of a model - how does a model perform while it learns?\n",
        " - The predictions of a model - how do the predictions of a model line up against the ground truth (the original labels)?"
      ],
      "metadata": {
        "id": "VE9SqEmYzpAJ"
      }
    },
    {
      "cell_type": "code",
      "source": [
        "# Make a bigger dataset\n",
        "\n",
        "X = tf.range(-100, 100, 4)\n",
        "X"
      ],
      "metadata": {
        "id": "16r36AamfvNo",
        "colab": {
          "base_uri": "https://localhost:8080/"
        },
        "outputId": "819942b5-9a36-4c7d-e6c8-767abaedd9f0"
      },
      "execution_count": 18,
      "outputs": [
        {
          "output_type": "execute_result",
          "data": {
            "text/plain": [
              "<tf.Tensor: shape=(50,), dtype=int32, numpy=\n",
              "array([-100,  -96,  -92,  -88,  -84,  -80,  -76,  -72,  -68,  -64,  -60,\n",
              "        -56,  -52,  -48,  -44,  -40,  -36,  -32,  -28,  -24,  -20,  -16,\n",
              "        -12,   -8,   -4,    0,    4,    8,   12,   16,   20,   24,   28,\n",
              "         32,   36,   40,   44,   48,   52,   56,   60,   64,   68,   72,\n",
              "         76,   80,   84,   88,   92,   96], dtype=int32)>"
            ]
          },
          "metadata": {},
          "execution_count": 18
        }
      ]
    },
    {
      "cell_type": "code",
      "source": [
        "# Make labels for dataset\n",
        "y = X+10\n",
        "y"
      ],
      "metadata": {
        "colab": {
          "base_uri": "https://localhost:8080/"
        },
        "id": "votOmmBq0zy4",
        "outputId": "a1b1575d-fc31-4a78-ff76-ff4f4c71afa8"
      },
      "execution_count": 19,
      "outputs": [
        {
          "output_type": "execute_result",
          "data": {
            "text/plain": [
              "<tf.Tensor: shape=(50,), dtype=int32, numpy=\n",
              "array([-90, -86, -82, -78, -74, -70, -66, -62, -58, -54, -50, -46, -42,\n",
              "       -38, -34, -30, -26, -22, -18, -14, -10,  -6,  -2,   2,   6,  10,\n",
              "        14,  18,  22,  26,  30,  34,  38,  42,  46,  50,  54,  58,  62,\n",
              "        66,  70,  74,  78,  82,  86,  90,  94,  98, 102, 106], dtype=int32)>"
            ]
          },
          "metadata": {},
          "execution_count": 19
        }
      ]
    },
    {
      "cell_type": "code",
      "source": [
        "# Visualize the data \n",
        "import matplotlib.pyplot as plt\n",
        "\n",
        "plt.scatter(X, y)"
      ],
      "metadata": {
        "colab": {
          "base_uri": "https://localhost:8080/",
          "height": 449
        },
        "id": "ymNL4vc01LXY",
        "outputId": "534f741f-1f44-4166-d383-0f263f1b67d8"
      },
      "execution_count": 20,
      "outputs": [
        {
          "output_type": "execute_result",
          "data": {
            "text/plain": [
              "<matplotlib.collections.PathCollection at 0x7f7a7ef45c00>"
            ]
          },
          "metadata": {},
          "execution_count": 20
        },
        {
          "output_type": "display_data",
          "data": {
            "text/plain": [
              "<Figure size 640x480 with 1 Axes>"
            ],
            "image/png": "[encoded data removed]"
          },
          "metadata": {}
        }
      ]
    },
    {
      "cell_type": "markdown",
      "source": [
        "## The 3 sets...\n",
        "\n",
        " - **Training set** - the model learns from this data, which is typically 70-80% of the total data available (like the course materials you study during the semester). <br>\n",
        " - **Validation set** - the model gets tuned on this data, which is typically 10-15% of the total data available (like the practice exam you take before the final exam). <br>\n",
        " - Test set - the model gets evaluated on this data to test what it has learned, it's typically 10-15% of the total data available (like the final exam you take at the end of the semester)."
      ],
      "metadata": {
        "id": "KQuNukmZ1pkf"
      }
    },
    {
      "cell_type": "code",
      "source": [
        "## The 3 sets...\n",
        "# Check the length of how many samples we have\n",
        "len(X)"
      ],
      "metadata": {
        "colab": {
          "base_uri": "https://localhost:8080/"
        },
        "id": "q8ahSkuF1T9U",
        "outputId": "6fbcdb4b-0cb8-49a5-9c20-b208e3be1904"
      },
      "execution_count": 21,
      "outputs": [
        {
          "output_type": "execute_result",
          "data": {
            "text/plain": [
              "50"
            ]
          },
          "metadata": {},
          "execution_count": 21
        }
      ]
    },
    {
      "cell_type": "code",
      "source": [
        "# Split the data into train and test sets\n",
        "X_train = X[:40] # frist 40 samples (80% of data)\n",
        "y_train = y[:40]\n",
        "\n",
        "X_test = X[40:] # last 10 are the testing samples (20% of the data)\n",
        "y_test = y[40:]\n",
        "\n",
        "len(X_train), len(X_test), len(y_test), len(y_train)"
      ],
      "metadata": {
        "colab": {
          "base_uri": "https://localhost:8080/"
        },
        "id": "8va0SAc72wFg",
        "outputId": "d620651f-1782-4e59-b21c-e79992799fc4"
      },
      "execution_count": 22,
      "outputs": [
        {
          "output_type": "execute_result",
          "data": {
            "text/plain": [
              "(40, 10, 10, 40)"
            ]
          },
          "metadata": {},
          "execution_count": 22
        }
      ]
    },
    {
      "cell_type": "markdown",
      "source": [
        "## Visualizing the data\n",
        "\n",
        "Now we've got our data in training and test sets.."
      ],
      "metadata": {
        "id": "EK6xIKFB3_vj"
      }
    },
    {
      "cell_type": "code",
      "source": [
        "## Visusalizing the data\n",
        "plt.figure(figsize=(10, 7))\n",
        "#Plot training data in blue\n",
        "plt.scatter(X_train, y_train, c=\"b\", label=\"Training data\")\n",
        "#Plot test data in green\n",
        "plt.scatter(X_test, y_test, c=\"g\", label=\"Testing data\")\n",
        "plt.legend()"
      ],
      "metadata": {
        "colab": {
          "base_uri": "https://localhost:8080/",
          "height": 618
        },
        "id": "qvAmGRQe3xG_",
        "outputId": "49f88e56-e8ee-45b6-84a3-d1fc42881650"
      },
      "execution_count": 23,
      "outputs": [
        {
          "output_type": "execute_result",
          "data": {
            "text/plain": [
              "<matplotlib.legend.Legend at 0x7f7a7e96d750>"
            ]
          },
          "metadata": {},
          "execution_count": 23
        },
        {
          "output_type": "display_data",
          "data": {
            "text/plain": [
              "<Figure size 1000x700 with 1 Axes>"
            ],
            "image/png": "[encoded data removed]"
          },
          "metadata": {}
        }
      ]
    },
    {
      "cell_type": "code",
      "source": [
        " # Building the neural network for our data\n",
        "\n",
        "# 1. Creating the model\n",
        "model = tf.keras.Sequential([\n",
        "    tf.keras.layers.Dense(1)\n",
        "])\n",
        "\n",
        "# 2. Compiling our model\n",
        "model.compile(loss=tf.keras.losses.mae,\n",
        "              optimizer=tf.keras.optimizers.SGD(),\n",
        "              metrics=['mae'])\n",
        "\n",
        "# 3. Fit the model\n",
        "#model.fit(X_train, y_train, epochs=100)"
      ],
      "metadata": {
        "id": "1TEYpNfb4vXa"
      },
      "execution_count": 25,
      "outputs": []
    },
    {
      "cell_type": "markdown",
      "source": [
        "## Visualzing the model\n"
      ],
      "metadata": {
        "id": "7UTuE9qZ7Q6p"
      }
    },
    {
      "cell_type": "code",
      "source": [
        "model.summary()"
      ],
      "metadata": {
        "colab": {
          "base_uri": "https://localhost:8080/",
          "height": 308
        },
        "id": "c32lc8UB7VKM",
        "outputId": "9720223d-458a-4817-c4c1-394bf957a724"
      },
      "execution_count": 26,
      "outputs": [
        {
          "output_type": "error",
          "ename": "ValueError",
          "evalue": "ignored",
          "traceback": [
            "\u001b[0;31m---------------------------------------------------------------------------\u001b[0m",
            "\u001b[0;31mValueError\u001b[0m                                Traceback (most recent call last)",
            "\u001b[0;32m<ipython-input-26-5f15418b3570>\u001b[0m in \u001b[0;36m<cell line: 1>\u001b[0;34m()\u001b[0m\n\u001b[0;32m----> 1\u001b[0;31m \u001b[0mmodel\u001b[0m\u001b[0;34m.\u001b[0m\u001b[0msummary\u001b[0m\u001b[0;34m(\u001b[0m\u001b[0;34m)\u001b[0m\u001b[0;34m\u001b[0m\u001b[0;34m\u001b[0m\u001b[0m\n\u001b[0m",
            "\u001b[0;32m/usr/local/lib/python3.10/dist-packages/keras/engine/training.py\u001b[0m in \u001b[0;36msummary\u001b[0;34m(self, line_length, positions, print_fn, expand_nested, show_trainable, layer_range)\u001b[0m\n\u001b[1;32m   3227\u001b[0m         \"\"\"\n\u001b[1;32m   3228\u001b[0m         \u001b[0;32mif\u001b[0m \u001b[0;32mnot\u001b[0m \u001b[0mself\u001b[0m\u001b[0;34m.\u001b[0m\u001b[0mbuilt\u001b[0m\u001b[0;34m:\u001b[0m\u001b[0;34m\u001b[0m\u001b[0;34m\u001b[0m\u001b[0m\n\u001b[0;32m-> 3229\u001b[0;31m             raise ValueError(\n\u001b[0m\u001b[1;32m   3230\u001b[0m                 \u001b[0;34m\"This model has not yet been built. \"\u001b[0m\u001b[0;34m\u001b[0m\u001b[0;34m\u001b[0m\u001b[0m\n\u001b[1;32m   3231\u001b[0m                 \u001b[0;34m\"Build the model first by calling `build()` or by calling \"\u001b[0m\u001b[0;34m\u001b[0m\u001b[0;34m\u001b[0m\u001b[0m\n",
            "\u001b[0;31mValueError\u001b[0m: This model has not yet been built. Build the model first by calling `build()` or by calling the model on a batch of data."
          ]
        }
      ]
    },
    {
      "cell_type": "code",
      "source": [
        "# Let's create a model which builds automatically by defining the input shape argument\n",
        "tf.random.set_seed(42)\n",
        "\n",
        "# Create a model (same as above)\n",
        "model = tf.keras.Sequential([\n",
        "    tf.keras.layers.Dense(10, input_shape=[1], name='input_layer'),\n",
        "    tf.keras.layers.Dense(1, name='output_layer')\n",
        "], name='model_1')\n",
        "\n",
        "# Compiling the model\n",
        "model.compile(loss= tf.keras.losses.mae,\n",
        "              optimizer=tf.keras.optimizers.SGD(),\n",
        "              metrics=['mae'])"
      ],
      "metadata": {
        "id": "NYBC0LnQ7WhV"
      },
      "execution_count": 51,
      "outputs": []
    },
    {
      "cell_type": "code",
      "source": [
        "model.summary()"
      ],
      "metadata": {
        "colab": {
          "base_uri": "https://localhost:8080/"
        },
        "id": "4PULCRLJ8piV",
        "outputId": "7c5b8bb8-2bac-423a-e91f-249d2bea5574"
      },
      "execution_count": 52,
      "outputs": [
        {
          "output_type": "stream",
          "name": "stdout",
          "text": [
            "Model: \"model_1\"\n",
            "_________________________________________________________________\n",
            " Layer (type)                Output Shape              Param #   \n",
            "=================================================================\n",
            " input_layer (Dense)         (None, 10)                20        \n",
            "                                                                 \n",
            " output_layer (Dense)        (None, 1)                 11        \n",
            "                                                                 \n",
            "=================================================================\n",
            "Total params: 31\n",
            "Trainable params: 31\n",
            "Non-trainable params: 0\n",
            "_________________________________________________________________\n"
          ]
        }
      ]
    },
    {
      "cell_type": "markdown",
      "source": [
        " - Total params - total number of parameters in the model.\n",
        " - Trainable parameters - these are the parameters (patterns) the model can update as it trains.\n",
        " - Non-trainable parameters - these parameters aren't updated during training (this is typical when you bring in the already learned patterns from other models during transfer learning)."
      ],
      "metadata": {
        "id": "UnWPp7ON9Tmi"
      }
    },
    {
      "cell_type": "code",
      "source": [
        "# Let's fit our model to the training data\n",
        "model.fit(X_train, y_train, epochs=100, verbose=0)"
      ],
      "metadata": {
        "colab": {
          "base_uri": "https://localhost:8080/"
        },
        "id": "cWLuApHS8rsv",
        "outputId": "53d48dc9-0272-4e5e-cfd4-94b96e8875a5"
      },
      "execution_count": 53,
      "outputs": [
        {
          "output_type": "execute_result",
          "data": {
            "text/plain": [
              "<keras.callbacks.History at 0x7f7a7cf41cc0>"
            ]
          },
          "metadata": {},
          "execution_count": 53
        }
      ]
    },
    {
      "cell_type": "code",
      "source": [
        "model.summary()"
      ],
      "metadata": {
        "colab": {
          "base_uri": "https://localhost:8080/"
        },
        "id": "qw1-lTH1_jev",
        "outputId": "7abe50a3-3cfe-44b1-f7a5-8a6807d4ac7f"
      },
      "execution_count": 54,
      "outputs": [
        {
          "output_type": "stream",
          "name": "stdout",
          "text": [
            "Model: \"model_1\"\n",
            "_________________________________________________________________\n",
            " Layer (type)                Output Shape              Param #   \n",
            "=================================================================\n",
            " input_layer (Dense)         (None, 10)                20        \n",
            "                                                                 \n",
            " output_layer (Dense)        (None, 1)                 11        \n",
            "                                                                 \n",
            "=================================================================\n",
            "Total params: 31\n",
            "Trainable params: 31\n",
            "Non-trainable params: 0\n",
            "_________________________________________________________________\n"
          ]
        }
      ]
    },
    {
      "cell_type": "code",
      "source": [
        "from tensorflow.keras.utils import plot_model\n",
        "\n",
        "plot_model(model=model, show_shapes=True)"
      ],
      "metadata": {
        "colab": {
          "base_uri": "https://localhost:8080/",
          "height": 312
        },
        "id": "_Ey4EWfN_5J9",
        "outputId": "c22d163e-41d9-4544-f038-f6c077ae0125"
      },
      "execution_count": 55,
      "outputs": [
        {
          "output_type": "execute_result",
          "data": {
            "image/png": "[encoded data removed]",
            "text/plain": [
              "<IPython.core.display.Image object>"
            ]
          },
          "metadata": {},
          "execution_count": 55
        }
      ]
    },
    {
      "cell_type": "markdown",
      "source": [
        "## Visualizing our model's predictions\n",
        "\n"
      ],
      "metadata": {
        "id": "sxodz9KhB3nf"
      }
    },
    {
      "cell_type": "code",
      "source": [
        "# Make predictions\n",
        "y_pred = model.predict(X_test)\n",
        "y_pred"
      ],
      "metadata": {
        "colab": {
          "base_uri": "https://localhost:8080/"
        },
        "id": "37LNwe14Ai0Y",
        "outputId": "7c6d5097-4fed-4566-a695-3300ff57e5e2"
      },
      "execution_count": 56,
      "outputs": [
        {
          "output_type": "stream",
          "name": "stdout",
          "text": [
            "1/1 [==============================] - 0s 70ms/step\n"
          ]
        },
        {
          "output_type": "execute_result",
          "data": {
            "text/plain": [
              "array([[ 76.466225],\n",
              "       [ 81.4471  ],\n",
              "       [ 86.42796 ],\n",
              "       [ 91.408844],\n",
              "       [ 96.38971 ],\n",
              "       [101.37059 ],\n",
              "       [106.35146 ],\n",
              "       [111.33234 ],\n",
              "       [116.31322 ],\n",
              "       [121.29408 ]], dtype=float32)"
            ]
          },
          "metadata": {},
          "execution_count": 56
        }
      ]
    },
    {
      "cell_type": "code",
      "source": [
        "y_test"
      ],
      "metadata": {
        "colab": {
          "base_uri": "https://localhost:8080/"
        },
        "id": "owA0CC_OCYBf",
        "outputId": "62e2d374-188f-4165-f260-030897bb8af4"
      },
      "execution_count": 57,
      "outputs": [
        {
          "output_type": "execute_result",
          "data": {
            "text/plain": [
              "<tf.Tensor: shape=(10,), dtype=int32, numpy=array([ 70,  74,  78,  82,  86,  90,  94,  98, 102, 106], dtype=int32)>"
            ]
          },
          "metadata": {},
          "execution_count": 57
        }
      ]
    },
    {
      "cell_type": "code",
      "source": [
        "# Let's create a plotting function\n",
        "def plot_predictions(train_data=X_train,\n",
        "                     train_labels=y_train,\n",
        "                     test_data=X_test,\n",
        "                     test_labels=y_test,\n",
        "                     predictions=y_pred):\n",
        "  \"\"\"\n",
        "  Plots training data, test data and compares predictions.\n",
        "  \"\"\"\n",
        "\n",
        "  plt.figure(figsize=(10,7))\n",
        "  # Plot training data in blue\n",
        "  plt.scatter(train_data, train_labels, c='b', label='Training data')\n",
        "  # Plot the testing data\n",
        "  plt.scatter(test_data, test_labels, c='g', label='Testing data')\n",
        "  # Plot model's prediction in red\n",
        "  plt.scatter(test_data, predictions, c='r', label=\"Preditions\")\n",
        "  plt.legend()"
      ],
      "metadata": {
        "id": "V8y4QEAOC1zi"
      },
      "execution_count": 61,
      "outputs": []
    },
    {
      "cell_type": "code",
      "source": [
        "plot_predictions()"
      ],
      "metadata": {
        "colab": {
          "base_uri": "https://localhost:8080/",
          "height": 599
        },
        "id": "hcRnpHCjEIm8",
        "outputId": "4712e003-d0cb-4241-9a02-487594cd9522"
      },
      "execution_count": 62,
      "outputs": [
        {
          "output_type": "display_data",
          "data": {
            "text/plain": [
              "<Figure size 1000x700 with 1 Axes>"
            ],
            "image/png": "[encoded data removed]"
          },
          "metadata": {}
        }
      ]
    },
    {
      "cell_type": "markdown",
      "source": [
        "### Evaluating our model's predictions with the regression evalutation metrics.\n",
        "\n",
        "Two of the main metrics used for regression problems are:\n",
        "\n",
        " - Mean absolute error (MAE) - the mean difference between each of the predictions.\n",
        " - Mean squared error (MSE) - the squared mean difference between of the predictions (use if larger errors are more detrimental than smaller errors)."
      ],
      "metadata": {
        "id": "8ADy-LNsE0PD"
      }
    },
    {
      "cell_type": "code",
      "source": [
        "# Evaluate the model on the test set\n",
        "model.evaluate(X_test, y_test)"
      ],
      "metadata": {
        "colab": {
          "base_uri": "https://localhost:8080/"
        },
        "id": "yGBAUx33EOmZ",
        "outputId": "9b48dcf5-bdc1-4b53-bb97-318df0124580"
      },
      "execution_count": 63,
      "outputs": [
        {
          "output_type": "stream",
          "name": "stdout",
          "text": [
            "1/1 [==============================] - 0s 340ms/step - loss: 10.8802 - mae: 10.8802\n"
          ]
        },
        {
          "output_type": "execute_result",
          "data": {
            "text/plain": [
              "[10.880152702331543, 10.880152702331543]"
            ]
          },
          "metadata": {},
          "execution_count": 63
        }
      ]
    },
    {
      "cell_type": "code",
      "source": [],
      "metadata": {
        "id": "ttejiQrQGi33"
      },
      "execution_count": null,
      "outputs": []
    }
  ]
}